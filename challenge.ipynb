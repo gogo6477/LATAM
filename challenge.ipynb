{
 "cells": [
  {
   "cell_type": "markdown",
   "metadata": {},
   "source": [
    "En este archivo puedes escribir lo que estimes conveniente. Te recomendamos detallar tu solución y todas las suposiciones que estás considerando. Aquí puedes ejecutar las funciones que definiste en los otros archivos de la carpeta src, medir el tiempo, memoria, etc."
   ]
  },
  {
   "cell_type": "code",
   "execution_count": 1,
   "metadata": {},
   "outputs": [],
   "source": [
    "from q1_time import q1_time\n",
    "from q1_memory import q1_memory\n",
    "\n",
    "file_path = \"farmers-protest-tweets-2021-2-4.json\""
   ]
  },
  {
   "cell_type": "markdown",
   "metadata": {},
   "source": [
    "Se realiza el llamado a las funciones q1_time y q1_memory"
   ]
  },
  {
   "cell_type": "code",
   "execution_count": 2,
   "metadata": {
    "scrolled": true
   },
   "outputs": [
    {
     "name": "stdout",
     "output_type": "stream",
     "text": [
      "[(datetime.date(2021, 2, 12), 'Ranbir Singh'), (datetime.date(2021, 2, 13), 'ਦੀਪ,ਮਾਨ'), (datetime.date(2021, 2, 17), 'Rkaur'), (datetime.date(2021, 2, 16), 'Jot'), (datetime.date(2021, 2, 14), 'Theinactiveactivist'), (datetime.date(2021, 2, 18), 'Nitu'), (datetime.date(2021, 2, 15), 'Jot'), (datetime.date(2021, 2, 20), 'MJeet Singh🇮🇳'), (datetime.date(2021, 2, 23), 'Surrypur'), (datetime.date(2021, 2, 19), 'ਪ੍ਰੀਤਮ')]\n"
     ]
    }
   ],
   "source": [
    "result_time = q1_time(file_path)\n",
    "print(result_time)"
   ]
  },
  {
   "cell_type": "code",
   "execution_count": 3,
   "metadata": {},
   "outputs": [
    {
     "name": "stdout",
     "output_type": "stream",
     "text": [
      "[(datetime.date(2021, 2, 12), 'Ranbir Singh'), (datetime.date(2021, 2, 13), 'ਦੀਪ,ਮਾਨ'), (datetime.date(2021, 2, 17), 'Rkaur'), (datetime.date(2021, 2, 16), 'Jot'), (datetime.date(2021, 2, 14), 'Theinactiveactivist'), (datetime.date(2021, 2, 18), 'Nitu'), (datetime.date(2021, 2, 15), 'Jot'), (datetime.date(2021, 2, 20), 'MJeet Singh🇮🇳'), (datetime.date(2021, 2, 23), 'Surrypur'), (datetime.date(2021, 2, 19), 'ਪ੍ਰੀਤਮ')]\n"
     ]
    }
   ],
   "source": [
    "result_memory = q1_memory(file_path)\n",
    "print(result_memory)"
   ]
  },
  {
   "cell_type": "markdown",
   "metadata": {},
   "source": []
  }
 ],
 "metadata": {
  "kernelspec": {
   "display_name": "Python 3",
   "language": "python",
   "name": "python3"
  },
  "language_info": {
   "codemirror_mode": {
    "name": "ipython",
    "version": 3
   },
   "file_extension": ".py",
   "mimetype": "text/x-python",
   "name": "python",
   "nbconvert_exporter": "python",
   "pygments_lexer": "ipython3",
   "version": "3.8.5"
  }
 },
 "nbformat": 4,
 "nbformat_minor": 2
}
