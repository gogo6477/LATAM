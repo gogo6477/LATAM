{
 "cells": [
  {
   "cell_type": "markdown",
   "metadata": {},
   "source": [
    "En este archivo puedes escribir lo que estimes conveniente. Te recomendamos detallar tu solución y todas las suposiciones que estás considerando. Aquí puedes ejecutar las funciones que definiste en los otros archivos de la carpeta src, medir el tiempo, memoria, etc."
   ]
  },
  {
   "cell_type": "markdown",
   "metadata": {},
   "source": [
    "1. El archivo farmers-protest-tweets-2021-2-4.json se debe cargar al nivel de los scripts .py, este archivo no se ha subido al repositorio para evitar sobrecargas y demoras en los procesos locales, además de algunas restricciones que maneja GIT para mi cuenta.\n",
    "\n",
    "\n",
    "\n",
    "2. Se ha usado la documentación de sugerida para el tema de los datos, pero se evidenció que algunos campos estaban creados con otros nombres como es el caso de created_at, text y screen_name, los cuales fueron cambiados y tomados por date(valor raíz), content y displayname respectivamente.\n",
    "\n",
    "\n",
    "3. Cada uno de los ejercicios se realizaron de acuerdo a las indicaciones, pero se tomó en cuenta algunos temas de expertis previo como es el caso de implementar **Counter** para contar las frecuencias en el caso de las funciones time y el uso de un **defaultdict** para optimizar el uso de memoria en el caso de las funciones memory.\n",
    "\n",
    "\n",
    "4. Se realizó el control por bloques try en el caso de manejar algún tipo de error o desbordamiento de datos o información.\n",
    "\n",
    "\n",
    "\n",
    "5. A nivel del repositorio podrán visualizar cada desarrollo separado por rama de acuerdo a la petición **Ej: la rama q1 contendrá el desarrollo de la pregunta 1 y así secesivamente**. Finalmente esta rama Master contiene el compendio de las 3 ramas anteriores\n",
    "\n",
    "\n",
    "\n",
    "\n",
    "**Diego Dominguez**\n",
    "**Arquitecto & Ingeniero de Datos**\n",
    "**Bogotá, Colombia**\n",
    "**+57 3175370944**"
   ]
  },
  {
   "cell_type": "code",
   "execution_count": 15,
   "metadata": {},
   "outputs": [],
   "source": [
    "from q1_time import q1_time\n",
    "from q1_memory import q1_memory\n",
    "from q2_time import q2_time\n",
    "from q2_memory import q2_memory\n",
    "from q3_time import q3_time\n",
    "from q3_memory import q3_memory\n",
    "\n",
    "file_path = \"farmers-protest-tweets-2021-2-4.json\""
   ]
  },
  {
   "cell_type": "markdown",
   "metadata": {},
   "source": [
    "Se realiza el llamado a las funciones q1_time y q1_memory"
   ]
  },
  {
   "cell_type": "code",
   "execution_count": 9,
   "metadata": {
    "scrolled": true
   },
   "outputs": [
    {
     "name": "stdout",
     "output_type": "stream",
     "text": [
      "[(datetime.date(2021, 2, 12), 'Ranbir Singh'), (datetime.date(2021, 2, 13), 'ਦੀਪ,ਮਾਨ'), (datetime.date(2021, 2, 17), 'Rkaur'), (datetime.date(2021, 2, 16), 'Jot'), (datetime.date(2021, 2, 14), 'Theinactiveactivist'), (datetime.date(2021, 2, 18), 'Nitu'), (datetime.date(2021, 2, 15), 'Jot'), (datetime.date(2021, 2, 20), 'MJeet Singh🇮🇳'), (datetime.date(2021, 2, 23), 'Surrypur'), (datetime.date(2021, 2, 19), 'ਪ੍ਰੀਤਮ')]\n"
     ]
    }
   ],
   "source": [
    "result_time_1 = q1_time(file_path)\n",
    "print(result_time_1)"
   ]
  },
  {
   "cell_type": "code",
   "execution_count": 10,
   "metadata": {},
   "outputs": [
    {
     "name": "stdout",
     "output_type": "stream",
     "text": [
      "[(datetime.date(2021, 2, 12), 'Ranbir Singh'), (datetime.date(2021, 2, 13), 'ਦੀਪ,ਮਾਨ'), (datetime.date(2021, 2, 17), 'Rkaur'), (datetime.date(2021, 2, 16), 'Jot'), (datetime.date(2021, 2, 14), 'Theinactiveactivist'), (datetime.date(2021, 2, 18), 'Nitu'), (datetime.date(2021, 2, 15), 'Jot'), (datetime.date(2021, 2, 20), 'MJeet Singh🇮🇳'), (datetime.date(2021, 2, 23), 'Surrypur'), (datetime.date(2021, 2, 19), 'ਪ੍ਰੀਤਮ')]\n"
     ]
    }
   ],
   "source": [
    "result_memory_1 = q1_memory(file_path)\n",
    "print(result_memory_1)"
   ]
  },
  {
   "cell_type": "markdown",
   "metadata": {},
   "source": [
    "Se realiza el llamado a las funciones q2_time y q2_memory"
   ]
  },
  {
   "cell_type": "code",
   "execution_count": 11,
   "metadata": {},
   "outputs": [
    {
     "name": "stdout",
     "output_type": "stream",
     "text": [
      "[('#', 332978), ('/', 239012), ('.', 161662), ('ा', 136407), ('@', 104230), (':', 85059), ('े', 82298), ('ਾ', 66686), ('ी', 60947), ('ि', 53414)]\n"
     ]
    }
   ],
   "source": [
    "result_time_2 = q2_time(file_path)\n",
    "print(result_time_2)"
   ]
  },
  {
   "cell_type": "code",
   "execution_count": 12,
   "metadata": {},
   "outputs": [
    {
     "name": "stdout",
     "output_type": "stream",
     "text": [
      "[('#', 332978), ('/', 239012), ('.', 161662), ('ा', 136407), ('@', 104230), (':', 85059), ('े', 82298), ('ਾ', 66686), ('ी', 60947), ('ि', 53414)]\n"
     ]
    }
   ],
   "source": [
    "result_memory_2 = q2_memory(file_path)\n",
    "print(result_memory_2)"
   ]
  },
  {
   "cell_type": "markdown",
   "metadata": {},
   "source": [
    "Se realiza el llamado a las funciones q3_time y q3_memory"
   ]
  },
  {
   "cell_type": "code",
   "execution_count": 13,
   "metadata": {},
   "outputs": [
    {
     "name": "stdout",
     "output_type": "stream",
     "text": [
      "[('narendramodi', 2201), ('Kisanektamorcha', 1822), ('RakeshTikaitBKU', 1599), ('PMOIndia', 1387), ('RahulGandhi', 1093), ('RaviSinghKA', 1002), ('GretaThunberg', 999), ('UNHumanRights', 956), ('rihanna', 944), ('meenaharris', 911)]\n"
     ]
    }
   ],
   "source": [
    "result_time_3 = q3_time(file_path)\n",
    "print(result_time_3)"
   ]
  },
  {
   "cell_type": "code",
   "execution_count": 14,
   "metadata": {},
   "outputs": [
    {
     "name": "stdout",
     "output_type": "stream",
     "text": [
      "[('narendramodi', 2201), ('Kisanektamorcha', 1822), ('RakeshTikaitBKU', 1599), ('PMOIndia', 1387), ('RahulGandhi', 1093), ('RaviSinghKA', 1002), ('GretaThunberg', 999), ('UNHumanRights', 956), ('rihanna', 944), ('meenaharris', 911)]\n"
     ]
    }
   ],
   "source": [
    "result_memory_3 = q3_memory(file_path)\n",
    "print(result_memory_3)"
   ]
  },
  {
   "cell_type": "code",
   "execution_count": null,
   "metadata": {},
   "outputs": [],
   "source": []
  }
 ],
 "metadata": {
  "kernelspec": {
   "display_name": "Python 3",
   "language": "python",
   "name": "python3"
  },
  "language_info": {
   "codemirror_mode": {
    "name": "ipython",
    "version": 3
   },
   "file_extension": ".py",
   "mimetype": "text/x-python",
   "name": "python",
   "nbconvert_exporter": "python",
   "pygments_lexer": "ipython3",
   "version": "3.8.5"
  }
 },
 "nbformat": 4,
 "nbformat_minor": 2
}
